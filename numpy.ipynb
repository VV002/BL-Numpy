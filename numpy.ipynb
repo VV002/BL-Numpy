{
 "cells": [
  {
   "cell_type": "markdown",
   "metadata": {},
   "source": [
    "##### 1.Write a Python program to convert a list of numeric value into a one-dimensional NumPy array"
   ]
  },
  {
   "cell_type": "code",
   "execution_count": 2,
   "metadata": {},
   "outputs": [],
   "source": [
    "import numpy as np"
   ]
  },
  {
   "cell_type": "code",
   "execution_count": 3,
   "metadata": {},
   "outputs": [
    {
     "name": "stdout",
     "output_type": "stream",
     "text": [
      " Original List : [12.23, 13.32, 100, 36.32], Type : <class 'list'>\n",
      "One-dimensional numpy Array : [ 12.23  13.32 100.    36.32], Type : <class 'numpy.ndarray'>\n"
     ]
    }
   ],
   "source": [
    "lst = [12.23, 13.32, 100,36.32]\n",
    "arr = np.array(lst,dtype=float)\n",
    "print(f\" Original List : {lst}, Type : {type(lst)}\")\n",
    "print(f\"One-dimensional numpy Array : {arr}, Type : {type(arr)}\")\n"
   ]
  },
  {
   "cell_type": "markdown",
   "metadata": {},
   "source": [
    "#####  2.Create a 3x3 matrix with values ranging from 2 to 10"
   ]
  },
  {
   "cell_type": "code",
   "execution_count": 4,
   "metadata": {},
   "outputs": [
    {
     "name": "stdout",
     "output_type": "stream",
     "text": [
      "[[ 2  3  4]\n",
      " [ 5  6  7]\n",
      " [ 8  9 10]]\n"
     ]
    }
   ],
   "source": [
    "array = np.arange(2,11).reshape(3,3)\n",
    "print(array)"
   ]
  },
  {
   "cell_type": "markdown",
   "metadata": {},
   "source": [
    "##### 3.Write a Python program to create a null vector of size 10 and update sixth value to 11.\n",
    "##### [ 0. 0. 0. 0. 0. 0. 0. 0. 0. 0.]\n",
    "##### Update sixth value to 11\n",
    "##### [ 0. 0. 0. 0. 0. 0. 11. 0. 0. 0.]"
   ]
  },
  {
   "cell_type": "code",
   "execution_count": 5,
   "metadata": {},
   "outputs": [
    {
     "name": "stdout",
     "output_type": "stream",
     "text": [
      "[0. 0. 0. 0. 0. 0. 0. 0. 0. 0.]\n",
      "[ 0.  0.  0.  0.  0.  0. 11.  0.  0.  0.]\n"
     ]
    }
   ],
   "source": [
    "array = np.zeros(10)\n",
    "print(array)\n",
    "array[6] = 11\n",
    "print(array)"
   ]
  },
  {
   "cell_type": "markdown",
   "metadata": {},
   "source": [
    "##### 4. Write a Python program to reverse an array (first element becomes last).\n",
    "##### Original array: [12 13 14 15 16 17 18 19 20 21 22 23 24 25 26 27 28 29 30 31 32 33 34 35 36 37]\n",
    "##### Reverse array: [37 36 35 34 33 32 31 30 29 28 27 26 25 24 23 22 21 20 19 18 17 16 15 14 13 12]"
   ]
  },
  {
   "cell_type": "code",
   "execution_count": 6,
   "metadata": {},
   "outputs": [
    {
     "name": "stdout",
     "output_type": "stream",
     "text": [
      "Original array: [12 13 14 15 16 17 18 19 20 21 22 23 24 25 26 27 28 29 30 31 32 33 34 35\n",
      " 36 37]\n",
      "Reverse array: [37 36 35 34 33 32 31 30 29 28 27 26 25 24 23 22 21 20 19 18 17 16 15 14\n",
      " 13 12]\n"
     ]
    }
   ],
   "source": [
    "array = np.arange(12,38)\n",
    "print(f\"Original array: {array}\")\n",
    "array = array[::-1]\n",
    "print(f\"Reverse array: {array}\")"
   ]
  },
  {
   "cell_type": "markdown",
   "metadata": {},
   "source": [
    "##### 5.Write a Python program to create a 2d array with 1 on the border and 0 inside.\n",
    "##### Expected Output:\n",
    "##### Original array:\n",
    "[[ 1. 1. 1. 1. 1.]\n",
    "[ 1. 1. 1. 1. 1.]\n",
    "[ 1. 1. 1. 1. 1.]\n",
    "[ 1. 1. 1. 1. 1.]\n",
    "[ 1. 1. 1. 1. 1.]]\n",
    "\n",
    "\n",
    "[[ 1. 1. 1. 1. 1.]\n",
    "[ 1. 0. 0. 0. 1.]\n",
    "[ 1. 0. 0. 0. 1.]\n",
    "[ 1. 0. 0. 0. 1.]\n",
    "[ 1. 1. 1. 1. 1.]]"
   ]
  },
  {
   "cell_type": "code",
   "execution_count": 13,
   "metadata": {},
   "outputs": [
    {
     "name": "stdout",
     "output_type": "stream",
     "text": [
      "[[0. 0. 0. 0. 0.]\n",
      " [0. 0. 0. 0. 0.]\n",
      " [0. 0. 0. 0. 0.]\n",
      " [0. 0. 0. 0. 0.]\n",
      " [0. 0. 0. 0. 0.]]\n",
      "\n",
      "[[1. 1. 1. 1. 1.]\n",
      " [1. 0. 0. 0. 1.]\n",
      " [1. 0. 0. 0. 1.]\n",
      " [1. 0. 0. 0. 1.]\n",
      " [1. 1. 1. 1. 1.]]\n"
     ]
    }
   ],
   "source": [
    "array = np.zeros((5,5))\n",
    "print(array)\n",
    "print(\"\")\n",
    "array[0,:] = array[1:-1,0] = array[-1,:] = array[1:-1,-1] = 1\n",
    "print(array)"
   ]
  },
  {
   "cell_type": "markdown",
   "metadata": {},
   "source": [
    "6. Write a Python program to add a border (filled with 0's) around an existing array."
   ]
  },
  {
   "cell_type": "code",
   "execution_count": 14,
   "metadata": {},
   "outputs": [
    {
     "name": "stdout",
     "output_type": "stream",
     "text": [
      "[[1. 1. 1. 1. 1.]\n",
      " [1. 1. 1. 1. 1.]\n",
      " [1. 1. 1. 1. 1.]\n",
      " [1. 1. 1. 1. 1.]\n",
      " [1. 1. 1. 1. 1.]]\n",
      "\n",
      "[[0. 0. 0. 0. 0.]\n",
      " [0. 1. 1. 1. 0.]\n",
      " [0. 1. 1. 1. 0.]\n",
      " [0. 1. 1. 1. 0.]\n",
      " [0. 0. 0. 0. 0.]]\n"
     ]
    }
   ],
   "source": [
    "array = np.ones((5,5))\n",
    "print(array)\n",
    "print(\"\")\n",
    "array[0,:] = array[1:-1,0] = array[-1,:] = array[1:-1,-1] = 0\n",
    "print(array)"
   ]
  },
  {
   "cell_type": "markdown",
   "metadata": {},
   "source": [
    "7.Write a Python program to create a 8x8 matrix and fill it with a checkerboard pattern.\n",
    "Checkerboard pattern:"
   ]
  },
  {
   "cell_type": "code",
   "execution_count": 17,
   "metadata": {},
   "outputs": [
    {
     "name": "stdout",
     "output_type": "stream",
     "text": [
      "[[0. 0. 0. 0. 0. 0. 0. 0.]\n",
      " [0. 0. 0. 0. 0. 0. 0. 0.]\n",
      " [0. 0. 0. 0. 0. 0. 0. 0.]\n",
      " [0. 0. 0. 0. 0. 0. 0. 0.]\n",
      " [0. 0. 0. 0. 0. 0. 0. 0.]\n",
      " [0. 0. 0. 0. 0. 0. 0. 0.]\n",
      " [0. 0. 0. 0. 0. 0. 0. 0.]\n",
      " [0. 0. 0. 0. 0. 0. 0. 0.]]\n",
      "\n",
      "[[0. 1. 0. 1. 0. 1. 0. 1.]\n",
      " [1. 0. 1. 0. 1. 0. 1. 0.]\n",
      " [0. 1. 0. 1. 0. 1. 0. 1.]\n",
      " [1. 0. 1. 0. 1. 0. 1. 0.]\n",
      " [0. 1. 0. 1. 0. 1. 0. 1.]\n",
      " [1. 0. 1. 0. 1. 0. 1. 0.]\n",
      " [0. 1. 0. 1. 0. 1. 0. 1.]\n",
      " [1. 0. 1. 0. 1. 0. 1. 0.]]\n"
     ]
    }
   ],
   "source": [
    "# [[0 1 0 1 0 1 0 1]\n",
    "# [1 0 1 0 1 0 1 0]\n",
    "# [0 1 0 1 0 1 0 1]\n",
    "# [1 0 1 0 1 0 1 0]\n",
    "# [0 1 0 1 0 1 0 1]\n",
    "# [1 0 1 0 1 0 1 0]\n",
    "# [0 1 0 1 0 1 0 1]\n",
    "# [1 0 1 0 1 0 1 0]]\n",
    "array = np.zeros((8,8))\n",
    "print(array)\n",
    "print(\"\")\n",
    "array[::2,1::2] = array[1::2,::2] = 1\n",
    "print(array)"
   ]
  },
  {
   "cell_type": "markdown",
   "metadata": {},
   "source": [
    "9. Write a Python program to append values to the end of an array.\n",
    "Expected Output:\n",
    "##### Original array:\n",
    "- [10, 20, 30]\n",
    "##### After append values to the end of the array:\n",
    "- [10 20 30 40 50 60 70 80 90]"
   ]
  },
  {
   "cell_type": "code",
   "execution_count": 25,
   "metadata": {},
   "outputs": [
    {
     "name": "stdout",
     "output_type": "stream",
     "text": [
      "[10 20 30]\n",
      "[10 20 30 40 50 60 70 80 90]\n"
     ]
    }
   ],
   "source": [
    "array = np.arange(10,40,10)\n",
    "print(array)\n",
    "arr2 = np.append(array,np.arange(40,100,10))\n",
    "print(arr2)"
   ]
  },
  {
   "cell_type": "markdown",
   "metadata": {},
   "source": [
    "11. Write a Python program to find the number of elements of an array, length of one\n",
    "array element in bytes and total bytes consumed by the elements.\n",
    "##### Expected Output:\n",
    "- Size of the array: 3\n",
    "- Length of one array element in bytes: 8\n",
    "- Total bytes consumed by the elements of the array: 24"
   ]
  },
  {
   "cell_type": "code",
   "execution_count": 34,
   "metadata": {},
   "outputs": [
    {
     "name": "stdout",
     "output_type": "stream",
     "text": [
      "Size of the array : 3\n",
      "Length of the array element in bytes: 8\n",
      "Total bytes consumed by the elements of the array: 24\n"
     ]
    }
   ],
   "source": [
    "array = np.array([1,23,3])\n",
    "print(f\"Size of the array : {array.size}\")\n",
    "print(f\"Length of the array element in bytes: {array.itemsize}\")\n",
    "print(f\"Total bytes consumed by the elements of the array: {array.size * array.itemsize}\")"
   ]
  },
  {
   "cell_type": "markdown",
   "metadata": {},
   "source": [
    "12. Write a Python program to find common values between two arrays.\n",
    "Expected Output:\n",
    "Array1: [ 0 10 20 40 60]\n",
    "Array2: [10, 30, 40]\n",
    "Common values between two arrays:\n",
    "[10 40]"
   ]
  },
  {
   "cell_type": "code",
   "execution_count": 36,
   "metadata": {},
   "outputs": [
    {
     "name": "stdout",
     "output_type": "stream",
     "text": [
      "Array1: [ 0 10 20 40]\n",
      "Array2: [10 30 40]\n",
      "Common values between two arrays: [10 40]\n"
     ]
    }
   ],
   "source": [
    "arr1 = np.array([0,10,20,40])\n",
    "arr2 = np.array([10,30,40])\n",
    "print(f\"Array1: {arr1}\")\n",
    "print(f\"Array2: {arr2}\")\n",
    "print(f\"Common values between two arrays: {np.intersect1d(arr1,arr2)}\")"
   ]
  },
  {
   "cell_type": "markdown",
   "metadata": {},
   "source": [
    "13. Write a Python program to find the set difference of two arrays. The set difference\n",
    "will return the sorted, unique values in array1 that are not in array2"
   ]
  },
  {
   "cell_type": "code",
   "execution_count": null,
   "metadata": {},
   "outputs": [
    {
     "name": "stdout",
     "output_type": "stream",
     "text": [
      "Array1: [ 0 10 20 40 60 80]\n",
      "Array2: [10 30 40 50 70 90]\n",
      "Unique values in array1 thta are not in array 2 : [ 0 20 60 80]\n"
     ]
    }
   ],
   "source": [
    "arr1 = np.array([0,10,20,40,60,80])\n",
    "arr2 = np.array([10,30,40,50,70,90])\n",
    "print(f\"Array1: {arr1}\")\n",
    "print(f\"Array2: {arr2}\")\n",
    "print(f\"Unique values in array1 thta are not in array 2 : {np.setdiff1d(arr1,arr2)}\")"
   ]
  },
  {
   "cell_type": "markdown",
   "metadata": {},
   "source": [
    "14. Write a Python program to find the set exclusive-or of two arrays. Set exclusive-or\n",
    "will return the sorted, unique values that are in only one (not both) of the input arrays"
   ]
  },
  {
   "cell_type": "code",
   "execution_count": 39,
   "metadata": {},
   "outputs": [
    {
     "name": "stdout",
     "output_type": "stream",
     "text": [
      "Array1: [ 0 10 20 40 60 80]\n",
      "Array2: [10 30 40 50 70]\n",
      "Unique values that are in only one (not both) of the input arrays : [ 0 20 30 50 60 70 80]\n"
     ]
    }
   ],
   "source": [
    "arr1 = np.array([0,10,20,40,60,80])\n",
    "arr2 = np.array([10,30,40,50,70])\n",
    "print(f\"Array1: {arr1}\")\n",
    "print(f\"Array2: {arr2}\")\n",
    "print(f\"Unique values that are in only one (not both) of the input arrays : {np.setxor1d(arr1,arr2)}\")"
   ]
  },
  {
   "cell_type": "markdown",
   "metadata": {},
   "source": [
    "15. Write a Python program compare two arrays using numpy.\n",
    "Array a: [1 2]\n",
    "Array b: [4 5]\n",
    "a > b\n",
    "[False False]\n",
    "a >= b\n",
    "[False False]\n",
    "a < b\n",
    "[ True True]\n",
    "a <= b\n",
    "[ True True]"
   ]
  },
  {
   "cell_type": "code",
   "execution_count": 45,
   "metadata": {},
   "outputs": [
    {
     "name": "stdout",
     "output_type": "stream",
     "text": [
      "Array a : [1 2]\n",
      "Array b : [4 5]\n",
      "a>b \n",
      "[False False]\n",
      "a>=b \n",
      "[False False]\n",
      "a<b \n",
      "[ True  True]\n",
      "a<=b \n",
      "[ True  True]\n"
     ]
    }
   ],
   "source": [
    "a = np.array([1,2])\n",
    "b = np.array([4,5])\n",
    "print(f\"Array a : {a}\")\n",
    "print(f\"Array b : {b}\")\n",
    "print(f\"a>b \\n{a>b}\")\n",
    "print(f\"a>=b \\n{a>=b}\")\n",
    "print(f\"a<b \\n{a<b}\")\n",
    "print(f\"a<=b \\n{a<=b}\")"
   ]
  },
  {
   "cell_type": "markdown",
   "metadata": {},
   "source": [
    "15. Write a Python program to save a NumPy array to a text file."
   ]
  },
  {
   "cell_type": "code",
   "execution_count": 47,
   "metadata": {},
   "outputs": [],
   "source": [
    "a = np.array([1,2,3,5,89])\n",
    "path = 'D:/BridgeLabz_Di/python_programs/BL-Numpy/15_numpy.txt'\n",
    "np.savetxt(path,a,delimiter=',', fmt='%.2f')"
   ]
  },
  {
   "cell_type": "markdown",
   "metadata": {},
   "source": [
    "16. Write a Python program to create a contiguous flattened array.\n",
    "Original array:\n",
    "[[10 20 30]\n",
    "[20 40 50]]"
   ]
  },
  {
   "cell_type": "code",
   "execution_count": 73,
   "metadata": {},
   "outputs": [
    {
     "name": "stdout",
     "output_type": "stream",
     "text": [
      "Original array : \n",
      "<class 'numpy.ndarray'>\n",
      "[10 20 30 20 40 50]\n"
     ]
    }
   ],
   "source": [
    "array = np.array([[10,20,30],[20,40,50]])\n",
    "print(f\"Original array : \\n{type(array)}\")\n",
    "print(array.flatten())\n"
   ]
  },
  {
   "cell_type": "markdown",
   "metadata": {},
   "source": [
    "17. Write a Python program to change the data type of an array.\n",
    "Expected Output:\n",
    "[[ 2 4 6]\n",
    "[ 6 8 10]]\n",
    "Data type of the array x is: int32\n",
    "New Type: float64\n",
    "[[ 2. 4. 6.]\n",
    "[ 6. 8. 10.]]"
   ]
  },
  {
   "cell_type": "code",
   "execution_count": 78,
   "metadata": {},
   "outputs": [
    {
     "name": "stdout",
     "output_type": "stream",
     "text": [
      "Origina Array: \n",
      "[[10 20 30]\n",
      " [20 40 50]]\n",
      "Data type of the array x is: int32\n",
      "New Type: float64 \n",
      "[[10. 20. 30.]\n",
      " [20. 40. 50.]]\n"
     ]
    }
   ],
   "source": [
    "x = np.array([[10,20,30],[20,40,50]], dtype=np.int32)\n",
    "print(f\"Origina Array: \\n{x}\")\n",
    "print(f\"Data type of the array x is: {x.dtype}\")\n",
    "x =x.astype(np.float64)\n",
    "print(f\"New Type: {x.dtype} \\n{x}\")"
   ]
  },
  {
   "cell_type": "markdown",
   "metadata": {},
   "source": [
    "18. Write a Python program to create a 3-D array with ones on a diagonal and zeros\n",
    "elsewhere.\n",
    "Expected Output:\n",
    "[[ 1. 0. 0.]\n",
    "[ 0. 1. 0.]\n",
    "[ 0. 0. 1.]]"
   ]
  },
  {
   "cell_type": "code",
   "execution_count": 84,
   "metadata": {},
   "outputs": [
    {
     "name": "stdout",
     "output_type": "stream",
     "text": [
      "[[0. 0. 0.]\n",
      " [0. 0. 0.]\n",
      " [0. 0. 0.]]\n",
      "\n",
      "[[1. 0. 0.]\n",
      " [0. 1. 0.]\n",
      " [0. 0. 1.]]\n"
     ]
    }
   ],
   "source": [
    "array = np.zeros((3,3))\n",
    "print(array)\n",
    "print(\"\")\n",
    "for i in range((len(array))):\n",
    "    array[i,i] = 1\n",
    "print(array)"
   ]
  },
  {
   "cell_type": "markdown",
   "metadata": {},
   "source": [
    "19. Write a Python program to create an array which looks like below array.\n",
    "Expected Output:"
   ]
  },
  {
   "cell_type": "code",
   "execution_count": 92,
   "metadata": {},
   "outputs": [
    {
     "name": "stdout",
     "output_type": "stream",
     "text": [
      "[[0. 0. 0.]\n",
      " [0. 0. 0.]\n",
      " [0. 0. 0.]\n",
      " [0. 0. 0.]]\n",
      "\n",
      "[[0. 0. 0.]\n",
      " [1. 0. 0.]\n",
      " [1. 1. 0.]\n",
      " [1. 1. 1.]]\n"
     ]
    }
   ],
   "source": [
    "array = np.zeros((4,3))\n",
    "print(array)\n",
    "print(\"\")\n",
    "for i in range(1,len(array)):\n",
    "        array[i,:i] = 1\n",
    "print(array)"
   ]
  },
  {
   "cell_type": "markdown",
   "metadata": {},
   "source": [
    "20. Write a Python program to concatenate two 2-dimensional arrays.\n",
    "Expected Output:"
   ]
  },
  {
   "cell_type": "code",
   "execution_count": null,
   "metadata": {},
   "outputs": [
    {
     "name": "stdout",
     "output_type": "stream",
     "text": [
      "[[0 1 3]\n",
      " [5 7 9]] [[ 0  2  4]\n",
      " [ 6  8 10]]\n",
      "[[ 0  1  3  0  2  4]\n",
      " [ 5  7  9  6  8 10]]\n"
     ]
    }
   ],
   "source": [
    "arr1 = np.array([[0, 1, 3], [5, 7, 9]])\n",
    "arr2 = np.array([[0, 2, 4], [6, 8, 10]])\n",
    "print(arr1,arr2)\n",
    "arr1 = np.concatenate((arr1,arr2),axis=1)\n",
    "print(arr1)"
   ]
  },
  {
   "cell_type": "markdown",
   "metadata": {},
   "source": [
    "21. Write a Python program to make an array immutable (read-only).\n",
    "Expected Output:"
   ]
  },
  {
   "cell_type": "code",
   "execution_count": 106,
   "metadata": {},
   "outputs": [
    {
     "name": "stdout",
     "output_type": "stream",
     "text": [
      "[0. 0. 0. 0. 0. 0. 0.]\n",
      "[0. 0. 7. 0. 0. 0. 0.]\n"
     ]
    },
    {
     "ename": "ValueError",
     "evalue": "assignment destination is read-only",
     "output_type": "error",
     "traceback": [
      "\u001b[31m---------------------------------------------------------------------------\u001b[39m",
      "\u001b[31mValueError\u001b[39m                                Traceback (most recent call last)",
      "\u001b[36mCell\u001b[39m\u001b[36m \u001b[39m\u001b[32mIn[106]\u001b[39m\u001b[32m, line 6\u001b[39m\n\u001b[32m      4\u001b[39m \u001b[38;5;28mprint\u001b[39m(array)\n\u001b[32m      5\u001b[39m array.setflags(write=\u001b[38;5;28;01mFalse\u001b[39;00m)\n\u001b[32m----> \u001b[39m\u001b[32m6\u001b[39m \u001b[43marray\u001b[49m\u001b[43m[\u001b[49m\u001b[32;43m3\u001b[39;49m\u001b[43m]\u001b[49m = \u001b[32m5\u001b[39m\n",
      "\u001b[31mValueError\u001b[39m: assignment destination is read-only"
     ]
    }
   ],
   "source": [
    "array = np.zeros(7)\n",
    "print(array)\n",
    "array[2]=7\n",
    "print(array)\n",
    "array.setflags(write=False)\n",
    "array[3] = 5"
   ]
  },
  {
   "cell_type": "markdown",
   "metadata": {},
   "source": [
    "22. Write a Python program to create an array of (3, 4) shape, multiply every element\n",
    "value by 3 and display the new array"
   ]
  },
  {
   "cell_type": "code",
   "execution_count": 109,
   "metadata": {},
   "outputs": [
    {
     "name": "stdout",
     "output_type": "stream",
     "text": [
      "Original Array Elements :\n",
      "[[ 0  1  2  3]\n",
      " [ 4  5  6  7]\n",
      " [ 8  9 10 11]]\n",
      "New Array Elements :\n",
      "[[ 0  3  6  9]\n",
      " [12 15 18 21]\n",
      " [24 27 30 33]]\n"
     ]
    }
   ],
   "source": [
    "array = np.arange(12).reshape(3,4)\n",
    "print(f\"Original Array Elements :\\n{array}\")\n",
    "array = array[:] * 3\n",
    "print(f\"New Array Elements :\\n{array}\")\n"
   ]
  },
  {
   "cell_type": "markdown",
   "metadata": {},
   "source": [
    "23. Write a Python program to convert a NumPy array into Python list structure.\n",
    "Expected Output:"
   ]
  },
  {
   "cell_type": "code",
   "execution_count": 114,
   "metadata": {},
   "outputs": [
    {
     "name": "stdout",
     "output_type": "stream",
     "text": [
      "[[0 1]\n",
      " [2 3]\n",
      " [4 5]]\n",
      "[[0, 1], [2, 3], [4, 5]]\n"
     ]
    }
   ],
   "source": [
    "arr = np.arange(6).reshape(3,2)\n",
    "print(arr)\n",
    "arr_list = arr.tolist()\n",
    "print(arr_list)"
   ]
  },
  {
   "cell_type": "markdown",
   "metadata": {},
   "source": [
    "24. Write a Python program to convert a NumPy array into Python list structure"
   ]
  },
  {
   "cell_type": "code",
   "execution_count": 123,
   "metadata": {},
   "outputs": [
    {
     "name": "stdout",
     "output_type": "stream",
     "text": [
      "[0.262, 0.528, 0.572, 0.593, 0.783, 0.697, 0.354, 0.995, 0.069, 0.547]\n"
     ]
    }
   ],
   "source": [
    "arr = np.array([0.26153123, 0.52760141, 0.5718299, 0.5927067, 0.7831874, 0.69746349,0.35399976, 0.99469633, 0.0694458, 0.54711478])\n",
    "arr= np.round(arr,decimals=3)\n",
    "arr_list = arr.tolist()\n",
    "print(f\"{arr_list}\")"
   ]
  },
  {
   "cell_type": "markdown",
   "metadata": {},
   "source": [
    "25. Write a Python program to suppresses the use of scientific notation for small\n",
    "numbers in numpy array."
   ]
  },
  {
   "cell_type": "code",
   "execution_count": 136,
   "metadata": {},
   "outputs": [
    {
     "name": "stdout",
     "output_type": "stream",
     "text": [
      "Original Array Elements : [1.60e-10 1.60e+00 1.20e+03 2.35e-01]\n",
      "Print array values with precision 3: \n",
      "[   0.       1.6   1200.       0.235]\n"
     ]
    }
   ],
   "source": [
    "np.set_printoptions(suppress=False)\n",
    "array = np.array([1.60000000e-10,1.60000000e+00,1.20000000e+03,2.35000000e-01])\n",
    "print(f\"Original Array Elements : {array}\")\n",
    "np.set_printoptions(suppress=True,precision=3)\n",
    "print(f\"Print array values with precision 3: \\n{array}\")"
   ]
  },
  {
   "cell_type": "markdown",
   "metadata": {},
   "source": [
    "26. Write a Python program to how to add an extra column to an numpy array."
   ]
  },
  {
   "cell_type": "code",
   "execution_count": 144,
   "metadata": {},
   "outputs": [
    {
     "name": "stdout",
     "output_type": "stream",
     "text": [
      "[[ 10  20  30 100]]\n",
      "\n",
      "[[ 10  20  30 100]\n",
      " [ 40  50  60 200]]\n"
     ]
    }
   ],
   "source": [
    "arr = np.array([[10,20,30,100]])\n",
    "print(arr)\n",
    "print(\"\")\n",
    "arr = np.concatenate((arr,[[40,50,60,200]]),axis=0)\n",
    "print(arr)"
   ]
  },
  {
   "cell_type": "markdown",
   "metadata": {},
   "source": [
    "27. Write a Python program to remove specific elements in a numpy array."
   ]
  },
  {
   "cell_type": "code",
   "execution_count": 146,
   "metadata": {},
   "outputs": [
    {
     "name": "stdout",
     "output_type": "stream",
     "text": [
      "Original Array : \n",
      "[ 10  20  30  40  50  60  70  80  90 100]\n",
      "Delete first, fourth and fifth elements:\n",
      "[ 20  30  60  70  80  90 100]\n"
     ]
    }
   ],
   "source": [
    "array = np.arange(10,110,10)\n",
    "print(f\"Original Array : \\n{array}\")\n",
    "array = np.delete(array,[0,3,4])\n",
    "print(f\"Delete first, fourth and fifth elements:\\n{array}\")"
   ]
  }
 ],
 "metadata": {
  "kernelspec": {
   "display_name": "Python 3",
   "language": "python",
   "name": "python3"
  },
  "language_info": {
   "codemirror_mode": {
    "name": "ipython",
    "version": 3
   },
   "file_extension": ".py",
   "mimetype": "text/x-python",
   "name": "python",
   "nbconvert_exporter": "python",
   "pygments_lexer": "ipython3",
   "version": "3.13.2"
  }
 },
 "nbformat": 4,
 "nbformat_minor": 2
}
